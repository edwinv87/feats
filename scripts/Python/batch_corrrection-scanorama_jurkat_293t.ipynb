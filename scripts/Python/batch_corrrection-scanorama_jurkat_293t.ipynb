{
 "cells": [
  {
   "cell_type": "code",
   "execution_count": 1,
   "metadata": {},
   "outputs": [],
   "source": [
    "import pandas as pd\n",
    "import numpy as np\n",
    "\n",
    "from scipy.sparse import csr_matrix, load_npz\n",
    "import scanorama\n",
    "from newsinglecell import SingleCell\n",
    "from feats_batchcorrection import IntegrateBatches, MergeBatches\n",
    "from scplot import tSNEPlot"
   ]
  },
  {
   "cell_type": "code",
   "execution_count": 2,
   "metadata": {},
   "outputs": [],
   "source": [
    "# Load Datasets\n",
    "X1 = load_npz('data/293t/tab.npz')\n",
    "with open('data/293t/tab.genes.txt') as f:\n",
    "    genes1 = np.array(f.read().rstrip().split())\n",
    "    \n",
    "X2 = load_npz('data/jurkat/tab.npz')\n",
    "with open('data/jurkat/tab.genes.txt') as f:\n",
    "    genes2 = np.array(f.read().rstrip().split())\n",
    "    \n",
    "X3 = load_npz('data/jurkat_293t_50_50/tab.npz')\n",
    "with open('data/jurkat_293t_50_50/tab.genes.txt') as f:\n",
    "    genes3 = np.array(f.read().rstrip().split())"
   ]
  },
  {
   "cell_type": "code",
   "execution_count": 3,
   "metadata": {},
   "outputs": [],
   "source": [
    "def filter_genes(X, genes):\n",
    "    \n",
    "    X = X.toarray()\n",
    "    X = X.T\n",
    "    expr_count = np.sum(X > 0, axis = 1, keepdims = False)\n",
    "    gene_filter = (expr_count >= 1)\n",
    "    X = X[gene_filter, :]\n",
    "    genes = genes[gene_filter]\n",
    "    \n",
    "    X = X.T\n",
    "    X = csr_matrix(X)\n",
    "    \n",
    "    return X, genes"
   ]
  },
  {
   "cell_type": "code",
   "execution_count": 5,
   "metadata": {},
   "outputs": [],
   "source": [
    "X1, genes1 = filter_genes(X1, genes1)\n",
    "X2, genes2 = filter_genes(X2, genes2)\n",
    "X3, genes3 = filter_genes(X3, genes3)\n",
    "\n",
    "datasets = [X1, X2, X3]\n",
    "genes_list = [genes1, genes2, genes3]"
   ]
  },
  {
   "cell_type": "code",
   "execution_count": 7,
   "metadata": {},
   "outputs": [
    {
     "name": "stdout",
     "output_type": "stream",
     "text": [
      "Found 15461 genes among all datasets\n",
      "[[0.         0.00828984 0.70571924]\n",
      " [0.         0.         0.28369665]\n",
      " [0.         0.         0.        ]]\n",
      "Processing datasets (0, 2)\n",
      "Processing datasets (1, 2)\n"
     ]
    }
   ],
   "source": [
    "integrated, corrected, genes = scanorama.correct(datasets, genes_list, return_dimred=True, return_dense = True)"
   ]
  },
  {
   "cell_type": "code",
   "execution_count": 8,
   "metadata": {},
   "outputs": [],
   "source": [
    "df1 = pd.DataFrame(integrated[0].T)\n",
    "df2 = pd.DataFrame(integrated[1].T)\n",
    "df3 = pd.DataFrame(integrated[2].T)\n",
    "\n",
    "\n",
    "bat1 = SingleCell(dataset = \"293t\", data = df1)\n",
    "bat2 = SingleCell(dataset = \"jurkat\", data = df2)\n",
    "bat3 = SingleCell(dataset = \"jurkat_293t_50_50\", data = df3)\n",
    "\n",
    "# Form batches\n",
    "batches = [bat1, bat2, bat3]"
   ]
  },
  {
   "cell_type": "code",
   "execution_count": 9,
   "metadata": {},
   "outputs": [
    {
     "name": "stdout",
     "output_type": "stream",
     "text": [
      "------------------------------------------------------------------------------\n",
      "Dataset:  jurkat_293t_50_50\n",
      "------------------------------------------------------------------------------\n",
      "Dimension:  (100, 3388)\n",
      "Cell Metadata:  ['cell_names']\n",
      "Gene Metadata:  ['gene_names']\n",
      "------------------------------------------------------------------------------\n"
     ]
    }
   ],
   "source": [
    "bat3.printSummary()"
   ]
  },
  {
   "cell_type": "code",
   "execution_count": 13,
   "metadata": {},
   "outputs": [
    {
     "name": "stdout",
     "output_type": "stream",
     "text": [
      "Number of common genes in all batches:  100\n",
      "------------------------------------------------------------------------------\n",
      "Dataset:  293t+jurkat+jurkat_293t_50_50\n",
      "------------------------------------------------------------------------------\n",
      "Dimension:  (100, 9530)\n",
      "Cell Metadata:  ['cell_names' 'batch']\n",
      "Gene Metadata:  ['gene_names']\n",
      "------------------------------------------------------------------------------\n"
     ]
    }
   ],
   "source": [
    "batches = IntegrateBatches(batches, name_by = ['gene_names', 'gene_names', 'gene_names'])\n",
    "batches = MergeBatches(batches)\n",
    "batches.printSummary()"
   ]
  },
  {
   "cell_type": "code",
   "execution_count": 14,
   "metadata": {},
   "outputs": [
    {
     "name": "stdout",
     "output_type": "stream",
     "text": [
      "Displaying chart at http://localhost:15961/\n"
     ]
    }
   ],
   "source": [
    "fig1 = tSNEPlot(batches, color_by = 'batch', marker_by = 'batch', marker_size = 2,   tsne_perplexity = 600, tsne_iterations = 400)\n",
    "fig1.show()"
   ]
  },
  {
   "cell_type": "code",
   "execution_count": null,
   "metadata": {},
   "outputs": [],
   "source": []
  }
 ],
 "metadata": {
  "kernelspec": {
   "display_name": "Python 3",
   "language": "python",
   "name": "python3"
  },
  "language_info": {
   "codemirror_mode": {
    "name": "ipython",
    "version": 3
   },
   "file_extension": ".py",
   "mimetype": "text/x-python",
   "name": "python",
   "nbconvert_exporter": "python",
   "pygments_lexer": "ipython3",
   "version": "3.7.7"
  }
 },
 "nbformat": 4,
 "nbformat_minor": 4
}
