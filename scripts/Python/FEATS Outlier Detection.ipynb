{
 "cells": [
  {
   "cell_type": "markdown",
   "metadata": {},
   "source": [
    "# FEATS Outlier Analysis \n",
    "In this notebook, we perform outlier analysis using FEATS on [mouse intestine dataset](https://www.nature.com/articles/nature07935). "
   ]
  },
  {
   "cell_type": "markdown",
   "metadata": {},
   "source": [
    "## Import libraries\n",
    "The first step is to import the Python libraries for performing the analysis."
   ]
  },
  {
   "cell_type": "code",
   "execution_count": 1,
   "metadata": {},
   "outputs": [],
   "source": [
    "# Import core libraries\n",
    "import numpy as np \n",
    "import pandas as pd\n",
    "\n",
    "import json\n",
    "\n",
    "# Import our libraries\n",
    "from singlecelldata import SingleCell\n",
    "from feats import DetectOutliers, Cluster\n",
    "\n",
    "\n",
    "# Import Plotting Functions\n",
    "from scplotlib import tSNEPlot, PlotOutlierScores"
   ]
  },
  {
   "cell_type": "markdown",
   "metadata": {},
   "source": [
    "## Load data\n",
    "The next step is to load the data into this notebook environment."
   ]
  },
  {
   "cell_type": "code",
   "execution_count": 2,
   "metadata": {},
   "outputs": [],
   "source": [
    "# Python dictionary storing dataset specific parameters.\n",
    "dataset_params = json.load(open(\"dset_param.txt\"))\n",
    "\n",
    "dataset = \"intestine\"\n",
    "dset_name = dataset_params[dataset]['dset_name']\n",
    "\n",
    "path = \"../../New_Datasets/\"\n",
    "data_path = path + dset_name + '/' + dset_name + \"_data.csv\"\n",
    "celldata_path = path + dset_name + '/' + dset_name + \"_celldata.csv\"\n",
    "genedata_path = path + dset_name + '/' + dset_name + \"_genedata.csv\"\n",
    "\n",
    "data = pd.read_csv(data_path, index_col=0)\n",
    "celldata = pd.read_csv(celldata_path, index_col=0)\n",
    "genedata = pd.read_csv(genedata_path, index_col = 0)\n",
    "\n",
    "# Create a single cell object   \n",
    "sc = SingleCell(dataset,data,celldata,genedata)\n",
    "\n",
    "# Get parameters from the dictionary\n",
    "label = dataset_params[dataset]['label']\n",
    "nc = dataset_params[dataset]['nc']\n",
    "\n",
    "# sc.print()"
   ]
  },
  {
   "cell_type": "markdown",
   "metadata": {},
   "source": [
    "## Perform clustering\n",
    "Clustering is performed prior to performing outlier analysis. We use the FEATS `Cluster` function and specify the number of clusters using the `k` parameter. We apply the cosine normalization on the data and use the full gene space to search for the optimal number of top genes/features. For more information on the `Cluster` function run `help(Cluster)`."
   ]
  },
  {
   "cell_type": "code",
   "execution_count": 3,
   "metadata": {},
   "outputs": [
    {
     "name": "stdout",
     "output_type": "stream",
     "text": [
      "Computing Temporary Clusters . . .\n",
      "Performing Feature Selection . . .\n",
      "Computing 6 clusters using best features . . .\n",
      "Saving final cluster labels in Single Cell object . . .\n"
     ]
    }
   ],
   "source": [
    "# Perform clustering \n",
    "sc, _ = Cluster( \n",
    "    sc,\n",
    "    k = nc,\n",
    "    normalization = 'cosine',\n",
    "    q = np.arange(1, sc.dim[0] + 1)\n",
    "    )"
   ]
  },
  {
   "cell_type": "markdown",
   "metadata": {},
   "source": [
    "## Perform outlier detection\n",
    "After clustering, we can call the `DetectOutliers` function to compute outliers. We have to provide the cluster information using the `cluster_label` argument. We use 'FEATS_6_Clusters', which is the column under which FEATS stores the computed cluster label information. We select the reduced dimensionality, `red_dim` as 2 and the probability threshold for outliers `outlier_prob_thres` as $10^{-4}$."
   ]
  },
  {
   "cell_type": "code",
   "execution_count": 4,
   "metadata": {},
   "outputs": [
    {
     "name": "stdout",
     "output_type": "stream",
     "text": [
      "Computing outliers . . .\n",
      "Number of outliers =  1\n",
      "Number of points in out of sample =  11\n",
      "Saving outlier information in Single Cell object . . .\n"
     ]
    }
   ],
   "source": [
    "sc = DetectOutliers(sc, cluster_label = 'FEATS_6_Clusters', red_dim = 2, outlier_prob_thres = 10**-4)"
   ]
  },
  {
   "cell_type": "markdown",
   "metadata": {},
   "source": [
    "## Visualization \n",
    "Using functions from the [scplotlib](https://github.com/edwinv87/scplotlib) library, we can visualize the outputs of the outlier detection method stored in the SingleCell object. The FEATS outlier detection function saves various parameters such as outlier scores, whether or not a cell is an outlier, etc., in the celldata assay of the SingleCell object. Run `help(DetectOutliers)` for more information. We can use these parameters to generate visualization. The `PlotOutlierScores` function generates a vertical bar plot of the outlier scores for each cell (fig1). You have to specify the name of the column which stores the outlier scores using the `outlier_score` argument. Additionally, we can also color the bars for different cell types using the `color_by` argument and plot a threshold line using the `threshold` argument. We have to specify the data column which stores these parameters. For other arguments see [scplotlib](https://github.com/edwinv87/scplotlib) documentation. \n",
    "\n",
    "The `tSNEPlot` function of the scplotlib can be used to generate two dimensional scatter plot. This function reduces the dimensionality via tSNE using tSNE parameters (arguments which start using the `tsne_` prefix). The `tSNEPlot` function has been used to generate a 2D scatter plot (fig2) by coloring the data points using cluster labels generated by FEATS ('FEATS_6_Clusters'). We can also show which samples are outliers by specifying the marker color (`color_by`) and shape (`shape_by`) arguments (fig3). Here we show which samples are outliers by specifying 'FEATS_outliers' for those arguments. "
   ]
  },
  {
   "cell_type": "code",
   "execution_count": 5,
   "metadata": {},
   "outputs": [
    {
     "name": "stdout",
     "output_type": "stream",
     "text": [
      "Displaying chart at http://localhost:19689/\n"
     ]
    }
   ],
   "source": [
    "fig1 = PlotOutlierScores(sc, \n",
    "                         outlier_score = 'FEATS_Outlier_Score', \n",
    "                         color_by = 'FEATS_6_Clusters', \n",
    "                         threshold = 'Outlier_Thres', \n",
    "                         height = 200, \n",
    "                         width = 200)\n",
    "fig1.show()"
   ]
  },
  {
   "cell_type": "code",
   "execution_count": 6,
   "metadata": {
    "scrolled": true
   },
   "outputs": [
    {
     "name": "stdout",
     "output_type": "stream",
     "text": [
      "Displaying chart at http://localhost:19689/\n"
     ]
    }
   ],
   "source": [
    "fig2 = tSNEPlot(sc, \n",
    "                color_by = 'FEATS_6_Clusters', \n",
    "                tsne_iterations = 400, \n",
    "                tsne_perplexity = 50, \n",
    "                tsne_init = 'pca', \n",
    "                tsne_random_state = 0, \n",
    "                marker_size = 10, \n",
    "                marker_thickness = 2)\n",
    "fig2.show()"
   ]
  },
  {
   "cell_type": "code",
   "execution_count": 7,
   "metadata": {},
   "outputs": [
    {
     "name": "stdout",
     "output_type": "stream",
     "text": [
      "Removing ' t-SNE 1 ' from CellData assay\n",
      "Removing ' t-SNE 2 ' from CellData assay\n",
      "Displaying chart at http://localhost:19689/\n"
     ]
    }
   ],
   "source": [
    "fig3 = tSNEPlot(sc, \n",
    "                color_by = 'FEATS_Outliers', \n",
    "                marker_by = 'FEATS_Outliers', \n",
    "                tsne_iterations = 400, \n",
    "                tsne_random_state = 0,\n",
    "                tsne_perplexity = 50, \n",
    "                tsne_init = 'pca', \n",
    "                marker_size = 10, \n",
    "                marker_thickness = 2)\n",
    "fig3.show()"
   ]
  }
 ],
 "metadata": {
  "kernelspec": {
   "display_name": "Python 3",
   "language": "python",
   "name": "python3"
  },
  "language_info": {
   "codemirror_mode": {
    "name": "ipython",
    "version": 3
   },
   "file_extension": ".py",
   "mimetype": "text/x-python",
   "name": "python",
   "nbconvert_exporter": "python",
   "pygments_lexer": "ipython3",
   "version": "3.7.7"
  }
 },
 "nbformat": 4,
 "nbformat_minor": 2
}
