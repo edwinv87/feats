{
 "cells": [
  {
   "cell_type": "code",
   "execution_count": 1,
   "metadata": {},
   "outputs": [],
   "source": [
    "# Import core libraries\n",
    "import json\n",
    "import pandas as pd\n",
    "import numpy as np\n",
    "\n",
    "from newsinglecell import SingleCell\n",
    "\n",
    "# Import our libraries\n",
    "from Filtering import GeneFilter, LogFilter\n",
    "from Normalization import FeatureNormalize\n",
    "from feats_batchcorrection import CorrectBatches, IntegrateBatches, MergeBatches\n",
    "from scplot import tSNEPlot, PCAPlot\n",
    "# Scanorama Stuffs\n",
    "import scanorama\n"
   ]
  },
  {
   "cell_type": "code",
   "execution_count": 2,
   "metadata": {},
   "outputs": [],
   "source": [
    "def Cell2Cluster(data):\n",
    "    \n",
    "    cell_labels = data\n",
    "    cell_types = np.unique(cell_labels)\n",
    "    \n",
    "    for i in range(cell_types.shape[0]):\n",
    "        mask = (cell_labels == cell_types[i])\n",
    "        cell_labels[mask] = i+1\n",
    "    \n",
    "    return cell_labels"
   ]
  },
  {
   "cell_type": "code",
   "execution_count": 3,
   "metadata": {},
   "outputs": [],
   "source": [
    "batch1 = pd.read_csv(\"data/batch1.csv\", index_col=0)\n",
    "batch2 = pd.read_csv(\"data/batch2i.csv\", index_col=0)\n",
    "batch3 = pd.read_csv(\"data/batch2ii.csv\", index_col=0)\n",
    "\n",
    "b1_celldata = pd.read_csv(\"data/batch1_labels.csv\", index_col=0)\n",
    "b1_celldata = pd.DataFrame(Cell2Cluster(b1_celldata.values), columns = [\"cell type\"])\n",
    "\n",
    "b2_celldata = pd.read_csv(\"data/batch2i_labels.csv\", index_col=0)\n",
    "b2_celldata = b2_celldata.T\n",
    "b2_celldata = pd.DataFrame(Cell2Cluster(b2_celldata.values), columns = [\"cell type\"])\n",
    "\n",
    "b3_celldata = pd.read_csv(\"data/batch2ii_labels.csv\", index_col=0)\n",
    "b3_celldata = b3_celldata.T\n",
    "b3_celldata = pd.DataFrame(Cell2Cluster(b3_celldata.values), columns = [\"cell type\"])\n"
   ]
  },
  {
   "cell_type": "code",
   "execution_count": 4,
   "metadata": {},
   "outputs": [
    {
     "name": "stdout",
     "output_type": "stream",
     "text": [
      "------------------------------------------------------------------------------\n",
      "Dataset:  simulation3\n",
      "------------------------------------------------------------------------------\n",
      "Dimension:  (100, 1000)\n",
      "Cell Metadata:  ['cell type']\n",
      "Gene Metadata:  ['gene_names']\n",
      "------------------------------------------------------------------------------\n"
     ]
    }
   ],
   "source": [
    "# Create a single cell object   \n",
    "bat1 = SingleCell(dataset = \"simulation1\", data = batch1, celldata = b1_celldata)\n",
    "bat2 = SingleCell(dataset = \"simulation2\", data = batch2, celldata = b2_celldata)\n",
    "bat3 = SingleCell(dataset = \"simulation3\", data = batch3, celldata = b3_celldata)\n",
    "\n",
    "bat3.printSummary()"
   ]
  },
  {
   "cell_type": "code",
   "execution_count": 5,
   "metadata": {},
   "outputs": [],
   "source": [
    "datasets = [bat1.getCounts().T, bat3.getCounts().T]\n",
    "genes_list = [bat1.getGeneColumnValues('gene_names'), bat2.getGeneColumnValues('gene_names')]"
   ]
  },
  {
   "cell_type": "code",
   "execution_count": 6,
   "metadata": {},
   "outputs": [
    {
     "name": "stdout",
     "output_type": "stream",
     "text": [
      "Found 100 genes among all datasets\n",
      "[[0.    0.641]\n",
      " [0.    0.   ]]\n",
      "Processing datasets (0, 1)\n"
     ]
    }
   ],
   "source": [
    "integrated, corrected, genes = scanorama.correct(datasets, genes_list, return_dimred=True, return_dense = True)"
   ]
  },
  {
   "cell_type": "code",
   "execution_count": 7,
   "metadata": {},
   "outputs": [],
   "source": [
    "\n",
    "bat1.setCounts(integrated[0].T)\n",
    "bat3.setCounts(integrated[1].T)\n",
    "\n",
    "# Form batches\n",
    "batches = [bat1, bat3]"
   ]
  },
  {
   "cell_type": "code",
   "execution_count": 8,
   "metadata": {},
   "outputs": [
    {
     "name": "stdout",
     "output_type": "stream",
     "text": [
      "Number of common genes in all batches:  100\n",
      "------------------------------------------------------------------------------\n",
      "Dataset:  simulation1+simulation3\n",
      "------------------------------------------------------------------------------\n",
      "Dimension:  (100, 2000)\n",
      "Cell Metadata:  ['cell type' 'batch']\n",
      "Gene Metadata:  ['gene_names']\n",
      "------------------------------------------------------------------------------\n"
     ]
    }
   ],
   "source": [
    "batches = IntegrateBatches(batches, name_by = ['gene_names', 'gene_names'])\n",
    "batches = MergeBatches(batches)\n",
    "batches.printSummary()"
   ]
  },
  {
   "cell_type": "code",
   "execution_count": 9,
   "metadata": {},
   "outputs": [
    {
     "name": "stdout",
     "output_type": "stream",
     "text": [
      "Displaying chart at http://localhost:21560/\n"
     ]
    }
   ],
   "source": [
    "fig5 = tSNEPlot(batches, color_by = 'cell type', marker_by = 'batch', tsne_init = 'pca')\n",
    "fig5.show()"
   ]
  },
  {
   "cell_type": "code",
   "execution_count": null,
   "metadata": {},
   "outputs": [],
   "source": []
  }
 ],
 "metadata": {
  "kernelspec": {
   "display_name": "Python 3",
   "language": "python",
   "name": "python3"
  },
  "language_info": {
   "codemirror_mode": {
    "name": "ipython",
    "version": 3
   },
   "file_extension": ".py",
   "mimetype": "text/x-python",
   "name": "python",
   "nbconvert_exporter": "python",
   "pygments_lexer": "ipython3",
   "version": "3.7.7"
  }
 },
 "nbformat": 4,
 "nbformat_minor": 2
}
