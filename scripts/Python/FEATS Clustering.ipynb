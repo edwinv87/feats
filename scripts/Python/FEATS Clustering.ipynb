{
 "cells": [
  {
   "cell_type": "markdown",
   "metadata": {},
   "source": [
    "## Performing Clustering using FEATS\n",
    "This notebook shows how to perform clustering using the FEATS package. "
   ]
  },
  {
   "cell_type": "markdown",
   "metadata": {},
   "source": [
    "### Import libraries\n",
    "The first step is to import libraries including functions from the FEATS package. We use the `json` package to load a python dictionary of dataset specific parameters stored as a text file. The `pandas` package is used to open data files stored as csv and to create dataframes. The `adjusted_rand_score` function from the scikit-learn package is used for computing ARI. The `SingleCell` class from the `singlecelldata` package <https://github.com/edwinv87/singlecell> is used for easy management of single-cell datasets. The functions in FEATS pcakage accepts SingleCell objects only to perform analysis. Plotting functions from the `scplotlib` <https://github.com/edwinv87/scplotlib> library are used to generate cluster visualizations. The Cluster function from FEATS package is used to perform clustering. "
   ]
  },
  {
   "cell_type": "code",
   "execution_count": 1,
   "metadata": {},
   "outputs": [],
   "source": [
    "# Import core libraries\n",
    "import json\n",
    "import pandas as pd\n",
    "from sklearn.metrics.cluster import adjusted_rand_score\n",
    "\n",
    "# Import SingleCell\n",
    "from singlecelldata import SingleCell\n",
    "\n",
    "# Import visualization functions \n",
    "from scplotlib import PCAPlot, SilhouettePlot, GeneExpHeatmap\n",
    "\n",
    "# Import the FEATS methods\n",
    "from feats import Cluster, GeneFilter, LogFilter\n"
   ]
  },
  {
   "cell_type": "markdown",
   "metadata": {},
   "source": [
    "### Load dataset\n",
    "The next step is to load the dataset. Here we use Pandas to import data stored in csv format into dataframes. The dataframes are then used to create the SingleCell object as the functions in the FEATS package accepts SingleCell objects. "
   ]
  },
  {
   "cell_type": "code",
   "execution_count": 2,
   "metadata": {},
   "outputs": [],
   "source": [
    "# Python dictionary storing dataset specific parameters.\n",
    "dataset_params = json.load(open(\"dset_param.txt\"))\n",
    "\n",
    "dataset = \"kolodziejczyk\"\n",
    "dset_name = dataset_params[dataset]['dset_name']\n",
    "data_path = \"../../New_Datasets/\" + dset_name + '/' + dset_name + \"_data.csv\"\n",
    "celldata_path = \"../../New_Datasets/\" + dset_name + '/' + dset_name + \"_celldata.csv\"\n",
    "genedata_path = \"../../New_Datasets/\" + dset_name + '/' + dset_name + \"_genedata.csv\"\n",
    "\n",
    "data = pd.read_csv(data_path, index_col=0)\n",
    "celldata = pd.read_csv(celldata_path, index_col=0)\n",
    "genedata = pd.read_csv(genedata_path, index_col = 0)\n",
    "\n",
    "# Create a single cell object   \n",
    "sc = SingleCell(dataset,data,celldata,genedata)\n",
    "\n",
    "# Get parameters from the dictionary\n",
    "label = dataset_params[dataset]['label'] # This is the name of the \n",
    "                                         # column which stores true cell labels.\n",
    "nc = dataset_params[dataset]['nc'] # This is the true number of \n",
    "                                   # clusters in the dataset. \n",
    "\n",
    "# sc.print()"
   ]
  },
  {
   "cell_type": "markdown",
   "metadata": {},
   "source": [
    "### Log transformation\n",
    "The LogFilter function takes the Log (with base 2) of the expression counts stored in sc and stores the log transformed values in the data assay."
   ]
  },
  {
   "cell_type": "code",
   "execution_count": 3,
   "metadata": {},
   "outputs": [],
   "source": [
    "# Take a log transformation of gene expressions\n",
    "sc = LogFilter(sc)"
   ]
  },
  {
   "cell_type": "markdown",
   "metadata": {},
   "source": [
    "### Gene filtering \n",
    "The GeneFilter function filters out genes based on the filtering criteria. It accepts three arguments apart from the sc object which are `min_cells`, `max_cells` and `expr_thres`. The GeneFilter function filters out genes expressed (with expression value less than or equal to `expr_thres`) in less than `min_cells` and greater than `max_cells` number of cells. Here we use 10% of cells as the `min_cells` and 90% of cells as `max_cells`. `expr_thres` is 0 by default. "
   ]
  },
  {
   "cell_type": "code",
   "execution_count": 4,
   "metadata": {},
   "outputs": [
    {
     "name": "stdout",
     "output_type": "stream",
     "text": [
      "Applying Gene Filter . . .\n",
      "Number of features remaining after gene filtering:  10725\n"
     ]
    }
   ],
   "source": [
    "# Perform Gene Filtering\n",
    "sc = GeneFilter(sc, \n",
    "                min_cells = int((10/100) * sc.dim[1]), \n",
    "                max_cells = int((90/100) * sc.dim[1]), \n",
    "                expr_thres = 0)"
   ]
  },
  {
   "cell_type": "markdown",
   "metadata": {},
   "source": [
    "### Clustering\n",
    "The Cluster function from FEATS is used to cluster the cells in the dataset. The first argument is the SingleCell object. The second argument is the number of clusters in the data `n_clusters`. Since we know this for this dataset, we pass the true number of clusters, `nc`. This parameter also accepts a python list of integers as number of clusters. Clustering will be performed using all the integers in the list. It also accepts the string `'gap'`, in which case it will estimate the number of clusters using gap statistic. The output argument is the SingleCell object which stores the computed clusters and other information. The second output argument is the number of clusters in the data (which we don't need in this case). "
   ]
  },
  {
   "cell_type": "code",
   "execution_count": 5,
   "metadata": {},
   "outputs": [
    {
     "name": "stdout",
     "output_type": "stream",
     "text": [
      "Computing Temporary Clusters . . .\n",
      "Performing Feature Selection . . .\n",
      "Computing 3 clusters using best features . . .\n",
      "Saving final cluster labels in Single Cell object . . .\n"
     ]
    }
   ],
   "source": [
    "# Perform clustering \n",
    "sc, _ = Cluster(sc, k = nc)"
   ]
  },
  {
   "cell_type": "markdown",
   "metadata": {},
   "source": [
    "### Adjusted rand index\n",
    "We can assess the clustering performance by computing the ARI using `adjusted_rand_score` function from scikit-learn package. The sc object stores the true cluster labels. We can get a numeric version of the true cell labels using the function `getNumericCellLabels` if it is stored as a string or in any other form. The FEATS clustering also stores the computed cluster labels in the celldata assay under the column name `FEATS_k_Clusters`, where `k` is the number of clusters. "
   ]
  },
  {
   "cell_type": "code",
   "execution_count": 6,
   "metadata": {},
   "outputs": [
    {
     "name": "stdout",
     "output_type": "stream",
     "text": [
      "Adjusted Rand Index: \n",
      "0.9919841315168355\n"
     ]
    }
   ],
   "source": [
    "# Compute and print the Adjusted Rand Score\n",
    "print (\"Adjusted Rand Index: \")\n",
    "print (adjusted_rand_score(sc.getNumericCellLabels(label), sc.getCellData(\"FEATS_3_Clusters\")))"
   ]
  },
  {
   "cell_type": "markdown",
   "metadata": {},
   "source": [
    "### Visualize the clusters formed\n",
    "We can visualize the clusters formed using FEATS in various ways. (1) We can do a PCA plot which is a scatter plot in 2D after reducing the dimensionality using PCA. The scatter plot can be colored using the `color_by` argument. We color the plot according to clusters computed by FEATS (fig1). (2) We can do a silhouette plot which will show the silhouette scores of the samples in each cluster (sorted by cluster and silhouette score). We have to specify the cluster information using the `cluster_by` argument. Silhouette score is a measure of how similar cells are to their own cluster compared to other clusters. The silhouette values are in the range $[-1, 1]$. Values closer to 1 indicate that samples are well matched to their own cluster and poorly matched to neighbouring clusters (fig2). "
   ]
  },
  {
   "cell_type": "code",
   "execution_count": 7,
   "metadata": {},
   "outputs": [
    {
     "name": "stdout",
     "output_type": "stream",
     "text": [
      "Displaying chart at http://localhost:18371/\n"
     ]
    }
   ],
   "source": [
    "fig1 = PCAPlot(sc, \n",
    "               color_by = \"FEATS_3_Clusters\", \n",
    "               marker_size = 10, \n",
    "               marker_thickness = 2)\n",
    "fig1.show()"
   ]
  },
  {
   "cell_type": "code",
   "execution_count": 8,
   "metadata": {},
   "outputs": [
    {
     "name": "stdout",
     "output_type": "stream",
     "text": [
      "Displaying chart at http://localhost:18371/\n"
     ]
    }
   ],
   "source": [
    "fig2 = SilhouettePlot(sc, cluster_by = \"FEATS_3_Clusters\")\n",
    "fig2.show()"
   ]
  },
  {
   "cell_type": "markdown",
   "metadata": {},
   "source": [
    "### High scoring genes (Top genes)\n",
    "We can visualize the top genes according to their F-scores. To do this, we can generate a heatmap of the genes sorted by the F-scores using the `GeneExpHeatmap` function from scplotlib package (fig3). Cells can be sorted according to their clusters with a horizontal colored bar on top of the heatmap indicating the cluster. The `color_by` argument is used to do this. The genes can be sorted also using the `sort_by` argument. We use the F-scores stored in the sc object after performing FEATS clustering. The F-scores are stored under the column `FEATS_F_Score` in the genedata assay. We can also point to the column which stores the gene names using the `name_by` argument. In this case the column `feature_symbol` stores the gene names in the genedata assay. In addition, we can specify the number of genes we want using the `top_num_genes` argument. We can also generate the heatmap where cells are sorted according to the temporary clusters computed by FEATS (fig4). The temporary clusters are computed to perform ANOVA. "
   ]
  },
  {
   "cell_type": "code",
   "execution_count": 9,
   "metadata": {},
   "outputs": [
    {
     "name": "stdout",
     "output_type": "stream",
     "text": [
      "Displaying chart at http://localhost:18371/\n"
     ]
    }
   ],
   "source": [
    "# Plot top expressions\n",
    "fig3 = GeneExpHeatmap(sc, \n",
    "                      color_by = 'FEATS_3_Clusters', \n",
    "                      sort_by = 'FEATS_F_Score', \n",
    "                      name_by =  'feature_symbol', \n",
    "                      top_num_genes = 10)\n",
    "fig3.show()"
   ]
  },
  {
   "cell_type": "code",
   "execution_count": 10,
   "metadata": {},
   "outputs": [
    {
     "name": "stdout",
     "output_type": "stream",
     "text": [
      "Displaying chart at http://localhost:18371/\n"
     ]
    }
   ],
   "source": [
    "fig4 = GeneExpHeatmap(sc, \n",
    "                      color_by = 'FEATS_3_Clusters_Temp', \n",
    "                      sort_by = 'FEATS_F_Score', \n",
    "                      name_by =  'feature_symbol', \n",
    "                      top_num_genes = 10)\n",
    "fig4.show()"
   ]
  },
  {
   "cell_type": "markdown",
   "metadata": {},
   "source": [
    "#### Contact\n",
    "For clarification on any of the functions used in this document please contact us via email: vans.edw@gmail.com"
   ]
  }
 ],
 "metadata": {
  "kernelspec": {
   "display_name": "Python 3",
   "language": "python",
   "name": "python3"
  },
  "language_info": {
   "codemirror_mode": {
    "name": "ipython",
    "version": 3
   },
   "file_extension": ".py",
   "mimetype": "text/x-python",
   "name": "python",
   "nbconvert_exporter": "python",
   "pygments_lexer": "ipython3",
   "version": "3.7.7"
  }
 },
 "nbformat": 4,
 "nbformat_minor": 2
}
