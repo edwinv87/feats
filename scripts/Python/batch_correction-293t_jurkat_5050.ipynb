{
 "cells": [
  {
   "cell_type": "code",
   "execution_count": 1,
   "metadata": {},
   "outputs": [],
   "source": [
    "# Import core libraries\n",
    "import pandas as pd\n",
    "import numpy as np\n",
    "import scipy.sparse\n",
    "\n",
    "# Import our libraries\n",
    "from singlecelldata import SingleCell\n",
    "from feats import CorrectBatches, IntegrateBatches, MergeBatches, LogFilter, GeneFilter, HVGFilter, FeatureNormalize, PCA\n",
    "from scplotlib import tSNEPlot"
   ]
  },
  {
   "cell_type": "code",
   "execution_count": 2,
   "metadata": {},
   "outputs": [],
   "source": [
    "# Load Datasets\n",
    "\n",
    "# Change the path to the location of the datasets. \n",
    "path = 'D:/OneDrive/PhD Research/Code Repositories/ahc-clustering/data'\n",
    "\n",
    "X1 = scipy.sparse.load_npz(path + '/293t/tab.npz').toarray()\n",
    "with open(path + '/293t/tab.genes.txt') as f:\n",
    "    genes1 = np.array(f.read().rstrip().split())\n",
    "    \n",
    "X2 = scipy.sparse.load_npz(path + '/jurkat/tab.npz').toarray()\n",
    "with open(path + '/jurkat/tab.genes.txt') as f:\n",
    "    genes2 = np.array(f.read().rstrip().split())\n",
    "    \n",
    "X3 = scipy.sparse.load_npz(path + '/jurkat_293t_50_50/tab.npz').toarray()\n",
    "with open(path + '/jurkat_293t_50_50/tab.genes.txt') as f:\n",
    "    genes3 = np.array(f.read().rstrip().split())"
   ]
  },
  {
   "cell_type": "code",
   "execution_count": 3,
   "metadata": {},
   "outputs": [],
   "source": [
    "df1 = pd.DataFrame(X1.T)\n",
    "df2 = pd.DataFrame(X2.T)\n",
    "df3 = pd.DataFrame(X3.T)\n",
    "\n",
    "genedata1 = pd.DataFrame(genes1, index = df1.index, columns = ['gene_names'])\n",
    "bat1 = SingleCell(dataset = \"293t\", data = df1, genedata = genedata1)\n",
    "genedata2 = pd.DataFrame(genes2, index = df2.index, columns = ['gene_names'])\n",
    "bat2 = SingleCell(dataset = \"jurkat\", data = df2, genedata = genedata2)\n",
    "genedata3 = pd.DataFrame(genes3, index = df3.index, columns = ['gene_names'])\n",
    "bat3 = SingleCell(dataset = \"jurkat_293t_50_50\", data = df3, genedata = genedata3)\n",
    "\n",
    "# Form batches\n",
    "batches = [bat1, bat2, bat3]"
   ]
  },
  {
   "cell_type": "code",
   "execution_count": 4,
   "metadata": {
    "tags": []
   },
   "outputs": [
    {
     "output_type": "stream",
     "name": "stdout",
     "text": "Applying Gene Filter . . .\nNumber of features remaining after gene filtering:  18760\nApplying Gene Filter . . .\nNumber of features remaining after gene filtering:  17753\nApplying Gene Filter . . .\nNumber of features remaining after gene filtering:  19536\n"
    }
   ],
   "source": [
    "# Filter Genes\n",
    "for i in range(len(batches)):\n",
    "    # batches[i] = LogFilter(batches[i])\n",
    "    batches[i] = GeneFilter(batches[i], min_cells = 1, max_cells = batches[i].dim[1])\n",
    "    batches[i] = FeatureNormalize(batches[i], 'cosine')\n"
   ]
  },
  {
   "cell_type": "code",
   "execution_count": 5,
   "metadata": {
    "tags": []
   },
   "outputs": [
    {
     "output_type": "stream",
     "name": "stdout",
     "text": "Integrating Batches . . .\nNumber of common genes in all batches:  15461\nMerging Batches . . .\n------------------------------------------------------------------------------\nDataset:  293t+jurkat+jurkat_293t_50_50\n------------------------------------------------------------------------------\nDimension:  (15461, 9530)\nCell Metadata:  ['cell_names' 'batch']\nGene Metadata:  ['gene_names']\n------------------------------------------------------------------------------\n"
    }
   ],
   "source": [
    "batches = IntegrateBatches(batches, name_by = ['gene_names', 'gene_names', 'gene_names'])\n",
    "batches.print()"
   ]
  },
  {
   "cell_type": "code",
   "execution_count": 6,
   "metadata": {
    "tags": []
   },
   "outputs": [
    {
     "output_type": "stream",
     "name": "stdout",
     "text": "------------------------------------------------------------------------------\nDataset:  293t+jurkat+jurkat_293t_50_50_reduced\n------------------------------------------------------------------------------\nDimension:  (100, 9530)\nCell Metadata:  ['cell_names' 'batch']\nGene Metadata:  ['principal_components']\n------------------------------------------------------------------------------\n"
    }
   ],
   "source": [
    "batches_red = PCA(batches, n_comp = 100)\n",
    "batches_red.print()"
   ]
  },
  {
   "cell_type": "code",
   "execution_count": null,
   "metadata": {},
   "outputs": [],
   "source": [
    "fig1 = tSNEPlot(batches_red, color_by = 'batch', marker_by = 'batch', marker_size = 2,   tsne_perplexity = 600, tsne_iterations = 400)\n",
    "fig1.show()"
   ]
  },
  {
   "cell_type": "code",
   "execution_count": null,
   "metadata": {},
   "outputs": [],
   "source": [
    "batches_red = CorrectBatches(batches_red, correct_order = [\"jurkat+293t\", \"jurkat_293t_50_50\"], sigma = 15, svd_dim = 2)"
   ]
  },
  {
   "cell_type": "code",
   "execution_count": null,
   "metadata": {},
   "outputs": [],
   "source": [
    "batches_red.print()"
   ]
  },
  {
   "cell_type": "code",
   "execution_count": null,
   "metadata": {},
   "outputs": [],
   "source": [
    "fig2 = tSNEPlot(batches_red, color_by = 'batch', marker_by = 'batch', marker_size = 2,   tsne_perplexity = 600, tsne_iterations = 400)\n",
    "fig2.show()"
   ]
  },
  {
   "cell_type": "code",
   "execution_count": null,
   "metadata": {},
   "outputs": [],
   "source": []
  }
 ],
 "metadata": {
  "kernelspec": {
   "display_name": "Python 3.7.7 64-bit ('phd-research': conda)",
   "language": "python",
   "name": "python_defaultSpec_1597718987270"
  },
  "language_info": {
   "codemirror_mode": {
    "name": "ipython",
    "version": 3
   },
   "file_extension": ".py",
   "mimetype": "text/x-python",
   "name": "python",
   "nbconvert_exporter": "python",
   "pygments_lexer": "ipython3",
   "version": "3.7.7-final"
  }
 },
 "nbformat": 4,
 "nbformat_minor": 4
}