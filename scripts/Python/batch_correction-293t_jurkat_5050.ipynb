{
 "cells": [
  {
   "cell_type": "code",
   "execution_count": 1,
   "metadata": {},
   "outputs": [],
   "source": [
    "# Import core libraries\n",
    "import pandas as pd\n",
    "import numpy as np\n",
    "import scipy.sparse\n",
    "\n",
    "from newsinglecell import SingleCell\n",
    "\n",
    "# Import our libraries\n",
    "from feats import CorrectBatches, IntegrateBatches, MergeBatches, LogFilter, GeneFilter, HVGFilter, FeatureNormalize, PCA\n",
    "# from newscplot import tSNEPlot\n",
    "from scplot import tSNEPlot"
   ]
  },
  {
   "cell_type": "code",
   "execution_count": 2,
   "metadata": {},
   "outputs": [],
   "source": [
    "# Load Datasets\n",
    "X1 = scipy.sparse.load_npz('data/293t/tab.npz').toarray()\n",
    "with open('data/293t/tab.genes.txt') as f:\n",
    "    genes1 = np.array(f.read().rstrip().split())\n",
    "    \n",
    "X2 = scipy.sparse.load_npz('data/jurkat/tab.npz').toarray()\n",
    "with open('data/jurkat/tab.genes.txt') as f:\n",
    "    genes2 = np.array(f.read().rstrip().split())\n",
    "    \n",
    "X3 = scipy.sparse.load_npz('data/jurkat_293t_50_50/tab.npz').toarray()\n",
    "with open('data/jurkat_293t_50_50/tab.genes.txt') as f:\n",
    "    genes3 = np.array(f.read().rstrip().split())"
   ]
  },
  {
   "cell_type": "code",
   "execution_count": 3,
   "metadata": {},
   "outputs": [],
   "source": [
    "df1 = pd.DataFrame(X1.T)\n",
    "df2 = pd.DataFrame(X2.T)\n",
    "df3 = pd.DataFrame(X3.T)\n",
    "\n",
    "genedata1 = pd.DataFrame(genes1, index = df1.index, columns = ['gene_names'])\n",
    "bat1 = SingleCell(dataset = \"293t\", data = df1, genedata = genedata1)\n",
    "genedata2 = pd.DataFrame(genes2, index = df2.index, columns = ['gene_names'])\n",
    "bat2 = SingleCell(dataset = \"jurkat\", data = df2, genedata = genedata2)\n",
    "genedata3 = pd.DataFrame(genes3, index = df3.index, columns = ['gene_names'])\n",
    "bat3 = SingleCell(dataset = \"jurkat_293t_50_50\", data = df3, genedata = genedata3)\n",
    "\n",
    "# Form batches\n",
    "batches = [bat1, bat2, bat3]"
   ]
  },
  {
   "cell_type": "code",
   "execution_count": 4,
   "metadata": {},
   "outputs": [
    {
     "name": "stdout",
     "output_type": "stream",
     "text": [
      "Applying Gene Filter . . .\n",
      "Number of features remaining after gene filtering:  18760\n",
      "Applying Gene Filter . . .\n",
      "Number of features remaining after gene filtering:  17753\n",
      "Applying Gene Filter . . .\n",
      "Number of features remaining after gene filtering:  19536\n"
     ]
    }
   ],
   "source": [
    "# Filter Genes\n",
    "for i in range(len(batches)):\n",
    "    # batches[i] = LogFilter(batches[i])\n",
    "    batches[i] = GeneFilter(batches[i], min_cells = 1, max_cells = batches[i].dim[1])\n",
    "    batches[i] = FeatureNormalize(batches[i], 'cosine')\n"
   ]
  },
  {
   "cell_type": "code",
   "execution_count": 5,
   "metadata": {},
   "outputs": [
    {
     "name": "stdout",
     "output_type": "stream",
     "text": [
      "Number of common genes in all batches:  15461\n",
      "------------------------------------------------------------------------------\n",
      "Dataset:  293t+jurkat+jurkat_293t_50_50\n",
      "------------------------------------------------------------------------------\n",
      "Dimension:  (15461, 9530)\n",
      "Cell Metadata:  ['cell_names' 'batch']\n",
      "Gene Metadata:  ['gene_names']\n",
      "------------------------------------------------------------------------------\n"
     ]
    }
   ],
   "source": [
    "batches = IntegrateBatches(batches, name_by = ['gene_names', 'gene_names', 'gene_names'])\n",
    "batches = MergeBatches(batches)\n",
    "batches.printSummary()"
   ]
  },
  {
   "cell_type": "code",
   "execution_count": 6,
   "metadata": {},
   "outputs": [
    {
     "name": "stdout",
     "output_type": "stream",
     "text": [
      "------------------------------------------------------------------------------\n",
      "Dataset:  293t+jurkat+jurkat_293t_50_50_reduced\n",
      "------------------------------------------------------------------------------\n",
      "Dimension:  (100, 9530)\n",
      "Cell Metadata:  ['cell_names' 'batch']\n",
      "Gene Metadata:  ['principal_components']\n",
      "------------------------------------------------------------------------------\n"
     ]
    }
   ],
   "source": [
    "batches_red = PCA(batches, n_comp = 100)\n",
    "batches_red.printSummary()"
   ]
  },
  {
   "cell_type": "code",
   "execution_count": 7,
   "metadata": {},
   "outputs": [
    {
     "name": "stdout",
     "output_type": "stream",
     "text": [
      "Displaying chart at http://localhost:20843/\n"
     ]
    }
   ],
   "source": [
    "fig1 = tSNEPlot(batches_red, color_by = 'batch', marker_by = 'batch', marker_size = 2,   tsne_perplexity = 600, tsne_iterations = 400)\n",
    "fig1.show()"
   ]
  },
  {
   "cell_type": "code",
   "execution_count": 8,
   "metadata": {},
   "outputs": [
    {
     "name": "stdout",
     "output_type": "stream",
     "text": [
      "(100, 6142)\n",
      "Correcting batches < jurkat+293t  and  jurkat_293t_50_50 >\n"
     ]
    }
   ],
   "source": [
    "batches_red = CorrectBatches(batches_red, correct_order = [\"jurkat+293t\", \"jurkat_293t_50_50\"], sigma = 15, svd_dim = 2)"
   ]
  },
  {
   "cell_type": "code",
   "execution_count": 9,
   "metadata": {},
   "outputs": [
    {
     "name": "stdout",
     "output_type": "stream",
     "text": [
      "------------------------------------------------------------------------------\n",
      "Dataset:  jurkat+293t+jurkat_293t_50_50\n",
      "------------------------------------------------------------------------------\n",
      "Dimension:  (100, 9530)\n",
      "Cell Metadata:  ['cell_names' 'batch' 't-SNE 1' 't-SNE 2']\n",
      "Gene Metadata:  ['principal_components']\n",
      "------------------------------------------------------------------------------\n"
     ]
    }
   ],
   "source": [
    "batches_red.printSummary()"
   ]
  },
  {
   "cell_type": "code",
   "execution_count": 10,
   "metadata": {},
   "outputs": [
    {
     "name": "stdout",
     "output_type": "stream",
     "text": [
      "Removing ' t-SNE 1 ' from CellData assay\n",
      "Removing ' t-SNE 2 ' from CellData assay\n",
      "Displaying chart at http://localhost:20843/\n"
     ]
    }
   ],
   "source": [
    "fig2 = tSNEPlot(batches_red, color_by = 'batch', marker_by = 'batch', marker_size = 2,   tsne_perplexity = 600, tsne_iterations = 400)\n",
    "fig2.show()"
   ]
  },
  {
   "cell_type": "code",
   "execution_count": null,
   "metadata": {},
   "outputs": [],
   "source": []
  }
 ],
 "metadata": {
  "kernelspec": {
   "display_name": "Python 3",
   "language": "python",
   "name": "python3"
  },
  "language_info": {
   "codemirror_mode": {
    "name": "ipython",
    "version": 3
   },
   "file_extension": ".py",
   "mimetype": "text/x-python",
   "name": "python",
   "nbconvert_exporter": "python",
   "pygments_lexer": "ipython3",
   "version": "3.7.7"
  }
 },
 "nbformat": 4,
 "nbformat_minor": 4
}
